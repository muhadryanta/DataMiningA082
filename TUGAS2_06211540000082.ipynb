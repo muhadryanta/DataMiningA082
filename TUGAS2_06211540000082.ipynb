{
 "cells": [
  {
   "cell_type": "markdown",
   "metadata": {},
   "source": [
    "# \"MUHAMAD ADRYANTA 06211540000082 DATA MINING KELAS A\""
   ]
  },
  {
   "cell_type": "code",
   "execution_count": null,
   "metadata": {},
   "outputs": [],
   "source": [
    "\"Data yang digunakan adalah data Banana Dataset yang bersumber dari Fraunhofer Intelligent Data Analysis Group Benchmark Repository\""
   ]
  },
  {
   "cell_type": "code",
   "execution_count": null,
   "metadata": {},
   "outputs": [],
   "source": [
    "\"Banana dataset ini terdiri dari tiga variabel, dua variabel berkarakter real, dan satu variabel adalah kategorik. Kategorinya terdiri 1 dan -1.\"\n",
    "\"Satu set data buatan merupakan sistem klaster terhadap bentuk pisang \"\n",
    "\n",
    "\"Ada dua atribut yaitu At1 dan At2 yang masing-masing merupakan sumbu x dan y.\n",
    "\n",
    "\"Label kelas (-1 dan 1) mewakili salah satu dari dua bentuk pisang dalam dataset.\""
   ]
  },
  {
   "cell_type": "code",
   "execution_count": 4,
   "metadata": {},
   "outputs": [],
   "source": [
    "import pandas as pd\n",
    "import numpy as np\n",
    "import matplotlib.pyplot as plt\n",
    "import seaborn as sns"
   ]
  },
  {
   "cell_type": "code",
   "execution_count": 6,
   "metadata": {},
   "outputs": [],
   "source": [
    "data = pd.read_excel (r'C:\\Users\\Windows 10\\Downloads\\for tugas 2 classify\\bananadataset.xlsx')"
   ]
  },
  {
   "cell_type": "code",
   "execution_count": 8,
   "metadata": {},
   "outputs": [
    {
     "data": {
      "text/html": [
       "<div>\n",
       "<style scoped>\n",
       "    .dataframe tbody tr th:only-of-type {\n",
       "        vertical-align: middle;\n",
       "    }\n",
       "\n",
       "    .dataframe tbody tr th {\n",
       "        vertical-align: top;\n",
       "    }\n",
       "\n",
       "    .dataframe thead th {\n",
       "        text-align: right;\n",
       "    }\n",
       "</style>\n",
       "<table border=\"1\" class=\"dataframe\">\n",
       "  <thead>\n",
       "    <tr style=\"text-align: right;\">\n",
       "      <th></th>\n",
       "      <th>V1</th>\n",
       "      <th>V2</th>\n",
       "      <th>Class</th>\n",
       "    </tr>\n",
       "  </thead>\n",
       "  <tbody>\n",
       "    <tr>\n",
       "      <th>0</th>\n",
       "      <td>1.140</td>\n",
       "      <td>-0.114</td>\n",
       "      <td>1</td>\n",
       "    </tr>\n",
       "    <tr>\n",
       "      <th>1</th>\n",
       "      <td>-1.520</td>\n",
       "      <td>-1.150</td>\n",
       "      <td>2</td>\n",
       "    </tr>\n",
       "    <tr>\n",
       "      <th>2</th>\n",
       "      <td>-1.050</td>\n",
       "      <td>0.720</td>\n",
       "      <td>1</td>\n",
       "    </tr>\n",
       "    <tr>\n",
       "      <th>3</th>\n",
       "      <td>-0.916</td>\n",
       "      <td>0.397</td>\n",
       "      <td>2</td>\n",
       "    </tr>\n",
       "    <tr>\n",
       "      <th>4</th>\n",
       "      <td>-1.090</td>\n",
       "      <td>0.437</td>\n",
       "      <td>2</td>\n",
       "    </tr>\n",
       "  </tbody>\n",
       "</table>\n",
       "</div>"
      ],
      "text/plain": [
       "      V1     V2  Class\n",
       "0  1.140 -0.114      1\n",
       "1 -1.520 -1.150      2\n",
       "2 -1.050  0.720      1\n",
       "3 -0.916  0.397      2\n",
       "4 -1.090  0.437      2"
      ]
     },
     "execution_count": 8,
     "metadata": {},
     "output_type": "execute_result"
    }
   ],
   "source": [
    "data.head()"
   ]
  },
  {
   "cell_type": "code",
   "execution_count": 9,
   "metadata": {},
   "outputs": [
    {
     "data": {
      "text/html": [
       "<div>\n",
       "<style scoped>\n",
       "    .dataframe tbody tr th:only-of-type {\n",
       "        vertical-align: middle;\n",
       "    }\n",
       "\n",
       "    .dataframe tbody tr th {\n",
       "        vertical-align: top;\n",
       "    }\n",
       "\n",
       "    .dataframe thead th {\n",
       "        text-align: right;\n",
       "    }\n",
       "</style>\n",
       "<table border=\"1\" class=\"dataframe\">\n",
       "  <thead>\n",
       "    <tr style=\"text-align: right;\">\n",
       "      <th></th>\n",
       "      <th>V1</th>\n",
       "      <th>V2</th>\n",
       "      <th>Class</th>\n",
       "    </tr>\n",
       "  </thead>\n",
       "  <tbody>\n",
       "    <tr>\n",
       "      <th>5295</th>\n",
       "      <td>0.335</td>\n",
       "      <td>1.390</td>\n",
       "      <td>2</td>\n",
       "    </tr>\n",
       "    <tr>\n",
       "      <th>5296</th>\n",
       "      <td>-1.700</td>\n",
       "      <td>-0.569</td>\n",
       "      <td>2</td>\n",
       "    </tr>\n",
       "    <tr>\n",
       "      <th>5297</th>\n",
       "      <td>2.640</td>\n",
       "      <td>1.140</td>\n",
       "      <td>2</td>\n",
       "    </tr>\n",
       "    <tr>\n",
       "      <th>5298</th>\n",
       "      <td>0.769</td>\n",
       "      <td>0.772</td>\n",
       "      <td>1</td>\n",
       "    </tr>\n",
       "    <tr>\n",
       "      <th>5299</th>\n",
       "      <td>-0.255</td>\n",
       "      <td>-0.142</td>\n",
       "      <td>2</td>\n",
       "    </tr>\n",
       "  </tbody>\n",
       "</table>\n",
       "</div>"
      ],
      "text/plain": [
       "         V1     V2  Class\n",
       "5295  0.335  1.390      2\n",
       "5296 -1.700 -0.569      2\n",
       "5297  2.640  1.140      2\n",
       "5298  0.769  0.772      1\n",
       "5299 -0.255 -0.142      2"
      ]
     },
     "execution_count": 9,
     "metadata": {},
     "output_type": "execute_result"
    }
   ],
   "source": [
    "data.tail()"
   ]
  },
  {
   "cell_type": "code",
   "execution_count": 11,
   "metadata": {},
   "outputs": [
    {
     "data": {
      "text/plain": [
       "(5300, 3)"
      ]
     },
     "execution_count": 11,
     "metadata": {},
     "output_type": "execute_result"
    }
   ],
   "source": [
    "data.shape"
   ]
  },
  {
   "cell_type": "code",
   "execution_count": 15,
   "metadata": {},
   "outputs": [
    {
     "data": {
      "text/plain": [
       "V1       0\n",
       "V2       0\n",
       "Class    0\n",
       "dtype: int64"
      ]
     },
     "execution_count": 15,
     "metadata": {},
     "output_type": "execute_result"
    }
   ],
   "source": [
    "np.sum(data.isnull())"
   ]
  },
  {
   "cell_type": "code",
   "execution_count": null,
   "metadata": {},
   "outputs": [],
   "source": [
    "\"Terlebibh dahulu dilakukan eksplorasi data\""
   ]
  },
  {
   "cell_type": "code",
   "execution_count": 16,
   "metadata": {},
   "outputs": [
    {
     "name": "stdout",
     "output_type": "stream",
     "text": [
      "1    2924\n",
      "2    2376\n",
      "Name: Class, dtype: int64\n",
      " 1.18000    23\n",
      " 1.05000    21\n",
      " 1.08000    21\n",
      " 1.22000    20\n",
      " 1.29000    20\n",
      " 1.01000    20\n",
      "-1.02000    20\n",
      " 1.21000    18\n",
      " 1.19000    18\n",
      "-1.01000    18\n",
      " 1.16000    18\n",
      " 1.26000    17\n",
      "-1.07000    17\n",
      " 1.12000    17\n",
      " 1.31000    17\n",
      " 1.23000    17\n",
      "-1.53000    16\n",
      "-1.51000    16\n",
      " 1.24000    16\n",
      " 1.35000    16\n",
      "-1.31000    16\n",
      "-1.04000    16\n",
      " 1.27000    16\n",
      " 1.09000    16\n",
      " 1.07000    16\n",
      " 1.15000    16\n",
      " 1.14000    15\n",
      "-1.19000    15\n",
      "-1.08000    15\n",
      " 1.20000    15\n",
      "            ..\n",
      "-0.28000     1\n",
      "-0.42000     1\n",
      " 0.29200     1\n",
      "-0.07670     1\n",
      "-0.11100     1\n",
      " 0.04030     1\n",
      " 0.21300     1\n",
      " 0.79100     1\n",
      " 0.25300     1\n",
      " 0.92700     1\n",
      "-0.65900     1\n",
      " 0.63800     1\n",
      " 0.59400     1\n",
      "-0.24400     1\n",
      " 0.00854     1\n",
      "-0.08190     1\n",
      "-2.34000     1\n",
      "-0.03700     1\n",
      "-0.06050     1\n",
      "-0.05470     1\n",
      " 0.81300     1\n",
      "-0.02670     1\n",
      "-0.07900     1\n",
      " 0.01750     1\n",
      "-0.18200     1\n",
      "-0.24500     1\n",
      " 0.25700     1\n",
      "-0.35100     1\n",
      " 0.47500     1\n",
      " 0.05430     1\n",
      "Name: V1, Length: 2112, dtype: int64\n",
      "-1.02000    34\n",
      "-1.27000    31\n",
      "-1.26000    30\n",
      "-1.17000    30\n",
      "-1.08000    29\n",
      "-1.07000    26\n",
      "-1.12000    26\n",
      "-1.38000    25\n",
      " 1.21000    25\n",
      "-1.28000    25\n",
      "-1.10000    25\n",
      "-1.23000    24\n",
      "-1.13000    24\n",
      "-1.15000    24\n",
      "-1.14000    24\n",
      "-1.20000    24\n",
      "-1.09000    24\n",
      "-1.06000    23\n",
      "-1.04000    23\n",
      " 1.35000    22\n",
      "-1.22000    22\n",
      "-1.25000    22\n",
      "-1.16000    22\n",
      "-1.05000    22\n",
      "-1.30000    22\n",
      "-1.33000    22\n",
      "-1.19000    21\n",
      " 1.14000    21\n",
      "-1.39000    21\n",
      "-1.21000    21\n",
      "            ..\n",
      " 0.57800     1\n",
      "-0.82500     1\n",
      " 0.07340     1\n",
      "-0.28300     1\n",
      " 0.00463     1\n",
      " 0.70900     1\n",
      " 0.01600     1\n",
      "-0.90500     1\n",
      " 0.02580     1\n",
      "-0.01300     1\n",
      " 2.31000     1\n",
      "-0.20700     1\n",
      " 0.00827     1\n",
      "-0.32300     1\n",
      " 0.94700     1\n",
      " 0.75700     1\n",
      "-0.40900     1\n",
      "-0.05780     1\n",
      "-0.08700     1\n",
      "-0.51700     1\n",
      " 0.33900     1\n",
      " 0.09190     1\n",
      " 0.79800     1\n",
      "-0.04330     1\n",
      " 0.03900     1\n",
      " 2.20000     1\n",
      "-0.55200     1\n",
      "-0.08280     1\n",
      "-0.58600     1\n",
      " 0.70000     1\n",
      "Name: V2, Length: 1933, dtype: int64\n"
     ]
    }
   ],
   "source": [
    "print(data['Class'].value_counts())\n",
    "print(data['V1'].value_counts())\n",
    "print(data['V2'].value_counts())"
   ]
  },
  {
   "cell_type": "code",
   "execution_count": 18,
   "metadata": {},
   "outputs": [
    {
     "data": {
      "image/png": "[encoded data removed]",
      "text/plain": [
       "<Figure size 432x288 with 1 Axes>"
      ]
     },
     "metadata": {},
     "output_type": "display_data"
    }
   ],
   "source": [
    "bentuk1= data['Class'].value_counts()\n",
    "sns.set(style=\"whitegrid\")\n",
    "sns.barplot(bentuk1.index, bentuk1.values, alpha=0.85)\n",
    "plt.title('Plot data Banana', fontsize=14)\n",
    "plt.ylabel('Jumlah Attribut', fontsize=11)\n",
    "plt.xlabel('Kelas', fontsize=11)\n",
    "plt.show()"
   ]
  },
  {
   "cell_type": "code",
   "execution_count": 19,
   "metadata": {},
   "outputs": [
    {
     "data": {
      "text/plain": [
       "Text(0,0.5,'Kelas')"
      ]
     },
     "execution_count": 19,
     "metadata": {},
     "output_type": "execute_result"
    },
    {
     "data": {
      "image/png": "[encoded data removed]",
      "text/plain": [
       "<Figure size 432x288 with 1 Axes>"
      ]
     },
     "metadata": {},
     "output_type": "display_data"
    }
   ],
   "source": [
    "sns.swarmplot(x='V1', y='Class', data=data)\n",
    "plt.xlabel('Atribut sumbu x')\n",
    "plt.ylabel('Kelas')"
   ]
  },
  {
   "cell_type": "code",
   "execution_count": 21,
   "metadata": {},
   "outputs": [
    {
     "data": {
      "text/html": [
       "<div>\n",
       "<style scoped>\n",
       "    .dataframe tbody tr th:only-of-type {\n",
       "        vertical-align: middle;\n",
       "    }\n",
       "\n",
       "    .dataframe tbody tr th {\n",
       "        vertical-align: top;\n",
       "    }\n",
       "\n",
       "    .dataframe thead th {\n",
       "        text-align: right;\n",
       "    }\n",
       "</style>\n",
       "<table border=\"1\" class=\"dataframe\">\n",
       "  <thead>\n",
       "    <tr style=\"text-align: right;\">\n",
       "      <th></th>\n",
       "      <th>Class</th>\n",
       "    </tr>\n",
       "  </thead>\n",
       "  <tbody>\n",
       "    <tr>\n",
       "      <th>1</th>\n",
       "      <td>2924</td>\n",
       "    </tr>\n",
       "    <tr>\n",
       "      <th>2</th>\n",
       "      <td>2376</td>\n",
       "    </tr>\n",
       "  </tbody>\n",
       "</table>\n",
       "</div>"
      ],
      "text/plain": [
       "   Class\n",
       "1   2924\n",
       "2   2376"
      ]
     },
     "execution_count": 21,
     "metadata": {},
     "output_type": "execute_result"
    }
   ],
   "source": [
    "pd.DataFrame(data.Class.value_counts())"
   ]
  },
  {
   "cell_type": "code",
   "execution_count": 23,
   "metadata": {},
   "outputs": [
    {
     "data": {
      "text/html": [
       "<div>\n",
       "<style scoped>\n",
       "    .dataframe tbody tr th:only-of-type {\n",
       "        vertical-align: middle;\n",
       "    }\n",
       "\n",
       "    .dataframe tbody tr th {\n",
       "        vertical-align: top;\n",
       "    }\n",
       "\n",
       "    .dataframe thead th {\n",
       "        text-align: right;\n",
       "    }\n",
       "</style>\n",
       "<table border=\"1\" class=\"dataframe\">\n",
       "  <thead>\n",
       "    <tr style=\"text-align: right;\">\n",
       "      <th></th>\n",
       "      <th>Class</th>\n",
       "    </tr>\n",
       "  </thead>\n",
       "  <tbody>\n",
       "    <tr>\n",
       "      <th>1</th>\n",
       "      <td>0.551698</td>\n",
       "    </tr>\n",
       "    <tr>\n",
       "      <th>2</th>\n",
       "      <td>0.448302</td>\n",
       "    </tr>\n",
       "  </tbody>\n",
       "</table>\n",
       "</div>"
      ],
      "text/plain": [
       "      Class\n",
       "1  0.551698\n",
       "2  0.448302"
      ]
     },
     "execution_count": 23,
     "metadata": {},
     "output_type": "execute_result"
    }
   ],
   "source": [
    "pd.DataFrame(data.Class.value_counts(normalize=True))"
   ]
  },
  {
   "cell_type": "code",
   "execution_count": 25,
   "metadata": {},
   "outputs": [
    {
     "data": {
      "text/plain": [
       "Class  V1   \n",
       "1       1.18    17\n",
       "        1.29    16\n",
       "        1.22    15\n",
       "       -1.04    13\n",
       "        1.05    13\n",
       "        1.08    13\n",
       "        1.27    13\n",
       "        1.07    12\n",
       "        1.21    12\n",
       "        1.24    12\n",
       "       -1.02    11\n",
       "        1.12    11\n",
       "        1.14    11\n",
       "        1.19    11\n",
       "       -1.08    10\n",
       "       -1.06    10\n",
       "        1.03    10\n",
       "        1.11    10\n",
       "        1.30    10\n",
       "        1.31    10\n",
       "       -1.20     9\n",
       "       -1.19     9\n",
       "       -1.01     9\n",
       "        1.02     9\n",
       "        1.16     9\n",
       "        1.35     9\n",
       "        1.45     9\n",
       "       -1.53     8\n",
       "       -1.21     8\n",
       "        1.01     8\n",
       "                ..\n",
       "2       1.98     1\n",
       "        1.99     1\n",
       "        2.04     1\n",
       "        2.06     1\n",
       "        2.08     1\n",
       "        2.09     1\n",
       "        2.11     1\n",
       "        2.13     1\n",
       "        2.16     1\n",
       "        2.23     1\n",
       "        2.25     1\n",
       "        2.33     1\n",
       "        2.40     1\n",
       "        2.42     1\n",
       "        2.44     1\n",
       "        2.45     1\n",
       "        2.47     1\n",
       "        2.48     1\n",
       "        2.52     1\n",
       "        2.53     1\n",
       "        2.55     1\n",
       "        2.57     1\n",
       "        2.59     1\n",
       "        2.60     1\n",
       "        2.62     1\n",
       "        2.68     1\n",
       "        2.69     1\n",
       "        2.71     1\n",
       "        2.75     1\n",
       "        2.81     1\n",
       "Name: V1, Length: 2864, dtype: int64"
      ]
     },
     "execution_count": 25,
     "metadata": {},
     "output_type": "execute_result"
    }
   ],
   "source": [
    "byclass=data.groupby(\"Class\").V1.value_counts()\n",
    "byclass"
   ]
  },
  {
   "cell_type": "code",
   "execution_count": 28,
   "metadata": {},
   "outputs": [
    {
     "data": {
      "text/plain": [
       "Text(0.5,1,'Bentuk Pisang')"
      ]
     },
     "execution_count": 28,
     "metadata": {},
     "output_type": "execute_result"
    },
    {
     "data": {
      "image/png": "[encoded data removed]",
      "text/plain": [
       "<Figure size 504x216 with 1 Axes>"
      ]
     },
     "metadata": {},
     "output_type": "display_data"
    }
   ],
   "source": [
    "import matplotlib.pyplot as pp\n",
    "pp.figure(figsize=(7,3))\n",
    "pp.subplot(1,2,1);data.Class.value_counts().plot(kind='pie',colors=['C3','C9']);pp.title('Bentuk Pisang')"
   ]
  },
  {
   "cell_type": "code",
   "execution_count": 51,
   "metadata": {},
   "outputs": [
    {
     "data": {
      "text/plain": [
       "(array([2924.,    0.,    0.,    0.,    0.,    0.,    0.,    0.,    0.,\n",
       "        2376.]),\n",
       " array([1. , 1.1, 1.2, 1.3, 1.4, 1.5, 1.6, 1.7, 1.8, 1.9, 2. ]),\n",
       " <a list of 10 Patch objects>)"
      ]
     },
     "execution_count": 51,
     "metadata": {},
     "output_type": "execute_result"
    },
    {
     "data": {
      "image/png": "[encoded data removed]",
      "text/plain": [
       "<Figure size 432x288 with 1 Axes>"
      ]
     },
     "metadata": {},
     "output_type": "display_data"
    }
   ],
   "source": [
    "plt.hist(data['Class'])\n"
   ]
  },
  {
   "cell_type": "code",
   "execution_count": 52,
   "metadata": {},
   "outputs": [
    {
     "data": {
      "text/plain": [
       "(array([   6.,   82.,  481.,  799., 1018., 1089.,  907.,  692.,  174.,\n",
       "          52.]),\n",
       " array([-3.09, -2.5 , -1.91, -1.32, -0.73, -0.14,  0.45,  1.04,  1.63,\n",
       "         2.22,  2.81]),\n",
       " <a list of 10 Patch objects>)"
      ]
     },
     "execution_count": 52,
     "metadata": {},
     "output_type": "execute_result"
    },
    {
     "data": {
      "image/png": "[encoded data removed]",
      "text/plain": [
       "<Figure size 432x288 with 1 Axes>"
      ]
     },
     "metadata": {},
     "output_type": "display_data"
    }
   ],
   "source": [
    "plt.hist(data['V1'], bins=10)\n"
   ]
  },
  {
   "cell_type": "code",
   "execution_count": 53,
   "metadata": {},
   "outputs": [
    {
     "data": {
      "text/plain": [
       "(array([2.000e+01, 4.880e+02, 1.144e+03, 8.050e+02, 8.740e+02, 8.450e+02,\n",
       "        7.360e+02, 3.560e+02, 3.100e+01, 1.000e+00]),\n",
       " array([-2.39 , -1.832, -1.274, -0.716, -0.158,  0.4  ,  0.958,  1.516,\n",
       "         2.074,  2.632,  3.19 ]),\n",
       " <a list of 10 Patch objects>)"
      ]
     },
     "execution_count": 53,
     "metadata": {},
     "output_type": "execute_result"
    },
    {
     "data": {
      "image/png": "[encoded data removed]",
      "text/plain": [
       "<Figure size 432x288 with 1 Axes>"
      ]
     },
     "metadata": {},
     "output_type": "display_data"
    }
   ],
   "source": [
    "plt.hist(data['V2'], bins=10)"
   ]
  },
  {
   "cell_type": "code",
   "execution_count": 63,
   "metadata": {},
   "outputs": [
    {
     "name": "stdout",
     "output_type": "stream",
     "text": [
      "      V1     V2\n",
      "0  1.140 -0.114\n",
      "1 -1.520 -1.150\n",
      "2 -1.050  0.720\n",
      "3 -0.916  0.397\n",
      "4 -1.090  0.437\n"
     ]
    }
   ],
   "source": [
    "datanonclass = data[['V1','V2']]\n",
    "print(datanonclass.head())"
   ]
  },
  {
   "cell_type": "code",
   "execution_count": 60,
   "metadata": {},
   "outputs": [
    {
     "name": "stderr",
     "output_type": "stream",
     "text": [
      "C:\\Anaconda35\\lib\\site-packages\\scipy\\stats\\stats.py:1713: FutureWarning: Using a non-tuple sequence for multidimensional indexing is deprecated; use `arr[tuple(seq)]` instead of `arr[seq]`. In the future this will be interpreted as an array index, `arr[np.array(seq)]`, which will result either in an error or a different result.\n",
      "  return np.add.reduce(sorted[indexer] * weights, axis=axis) / sumval\n"
     ]
    },
    {
     "data": {
      "image/png": "[encoded data removed]",
      "text/plain": [
       "<Figure size 432x288 with 1 Axes>"
      ]
     },
     "metadata": {},
     "output_type": "display_data"
    }
   ],
   "source": [
    "fig, ax = plt.subplots(nrows=1, ncols=1)\n",
    "for ii in range(len(datanonclass.columns)):\n",
    "    sns.distplot(datanonclass.iloc[:,ii], axlabel=False)   \n",
    "ax.set(title=\"Banana Shape Distribution\", xlabel=\"value\", ylabel=\"density\")\n",
    "plt.show()"
   ]
  },
  {
   "cell_type": "code",
   "execution_count": 62,
   "metadata": {},
   "outputs": [
    {
     "data": {
      "image/png": "[encoded data removed]",
      "text/plain": [
       "<Figure size 432x288 with 1 Axes>"
      ]
     },
     "metadata": {},
     "output_type": "display_data"
    }
   ],
   "source": [
    "fig, ax = plt.subplots(nrows=1, ncols=1)\n",
    "sns.boxplot(data=datanonclass, orient=\"h\")\n",
    "ax.set(title=\"Banana Shape Distribution\", xlabel=\"value\", ylabel=\"feature\")\n",
    "plt.show()"
   ]
  },
  {
   "cell_type": "code",
   "execution_count": 32,
   "metadata": {},
   "outputs": [
    {
     "data": {
      "text/plain": [
       "'Berikut Statistik Deskriptifnya'"
      ]
     },
     "execution_count": 32,
     "metadata": {},
     "output_type": "execute_result"
    }
   ],
   "source": [
    "\"Berikut Statistik Deskriptifnya\""
   ]
  },
  {
   "cell_type": "code",
   "execution_count": 33,
   "metadata": {},
   "outputs": [
    {
     "name": "stdout",
     "output_type": "stream",
     "text": [
      "                V1           V2        Class\n",
      "count  5300.000000  5300.000000  5300.000000\n",
      "mean      0.000016     0.000018     1.448302\n",
      "std       0.999880     1.000038     0.497367\n",
      "min      -3.090000    -2.390000     1.000000\n",
      "25%      -0.753250    -0.914000     1.000000\n",
      "50%      -0.015250    -0.037200     1.000000\n",
      "75%       0.782000     0.822500     2.000000\n",
      "max       2.810000     3.190000     2.000000\n"
     ]
    }
   ],
   "source": [
    "print(data.describe())"
   ]
  },
  {
   "cell_type": "code",
   "execution_count": null,
   "metadata": {},
   "outputs": [],
   "source": [
    "\"berdasarkan statistik deskriptif diatas diketahui jangkauan data terbesar adalah untuk data di v1 atau sumbu x, dimana ditinjau dari nilai median (alias 50% data)\""
   ]
  },
  {
   "cell_type": "code",
   "execution_count": 36,
   "metadata": {},
   "outputs": [
    {
     "data": {
      "image/png": "[encoded data removed]",
      "text/plain": [
       "<Figure size 432x288 with 1 Axes>"
      ]
     },
     "metadata": {},
     "output_type": "display_data"
    }
   ],
   "source": [
    "plt.scatter(data['V1'],data['V2'])\n",
    "plt.show()"
   ]
  },
  {
   "cell_type": "code",
   "execution_count": null,
   "metadata": {},
   "outputs": [],
   "source": [
    "\"Bentuk scatterplot diatas diketahui bahwa data menyebar pada sekumpulan area tertentu atau bisa dikatakan condong berkumpul dan berdekatan,serta tidak berbentuk pola, maka data tersebut memiliki korelasi yang rendah, dan cenderung tidak memiliki outlier\""
   ]
  },
  {
   "cell_type": "code",
   "execution_count": 40,
   "metadata": {},
   "outputs": [
    {
     "data": {
      "image/png": "[encoded data removed]",
      "text/plain": [
       "<Figure size 432x288 with 2 Axes>"
      ]
     },
     "metadata": {},
     "output_type": "display_data"
    }
   ],
   "source": [
    "correlation = datanonclass.corr()\n",
    "fig = plt.figure()\n",
    "ax = fig.add_subplot(111)\n",
    "cax = ax.matshow(correlation, vmin=-1, vmax=1)\n",
    "fig.colorbar(cax)\n",
    "names=[\"V1\",\"V2\"]\n",
    "ticks = np.arange(0,2,1)\n",
    "ax.set_xticks(ticks)\n",
    "ax.set_yticks(ticks)\n",
    "ax.set_xticklabels(names)\n",
    "ax.set_yticklabels(names)\n",
    "plt.show()"
   ]
  },
  {
   "cell_type": "code",
   "execution_count": null,
   "metadata": {},
   "outputs": [],
   "source": [
    "\"diketahui korelasi antar variabel V1 dan V2 (sumbu x dan sumbu y bentuk pisang) cenderung rendah (berkisar 0-0,375)"
   ]
  },
  {
   "cell_type": "code",
   "execution_count": 66,
   "metadata": {},
   "outputs": [
    {
     "data": {
      "text/html": [
       "<div>\n",
       "<style scoped>\n",
       "    .dataframe tbody tr th:only-of-type {\n",
       "        vertical-align: middle;\n",
       "    }\n",
       "\n",
       "    .dataframe tbody tr th {\n",
       "        vertical-align: top;\n",
       "    }\n",
       "\n",
       "    .dataframe thead th {\n",
       "        text-align: right;\n",
       "    }\n",
       "</style>\n",
       "<table border=\"1\" class=\"dataframe\">\n",
       "  <thead>\n",
       "    <tr style=\"text-align: right;\">\n",
       "      <th></th>\n",
       "      <th>V1</th>\n",
       "      <th>V2</th>\n",
       "    </tr>\n",
       "  </thead>\n",
       "  <tbody>\n",
       "    <tr>\n",
       "      <th>V1</th>\n",
       "      <td>1.000000</td>\n",
       "      <td>0.189423</td>\n",
       "    </tr>\n",
       "    <tr>\n",
       "      <th>V2</th>\n",
       "      <td>0.189423</td>\n",
       "      <td>1.000000</td>\n",
       "    </tr>\n",
       "  </tbody>\n",
       "</table>\n",
       "</div>"
      ],
      "text/plain": [
       "          V1        V2\n",
       "V1  1.000000  0.189423\n",
       "V2  0.189423  1.000000"
      ]
     },
     "execution_count": 66,
     "metadata": {},
     "output_type": "execute_result"
    }
   ],
   "source": [
    "correlation_matrix = datanonclass.corr()\n",
    "correlation_matrix"
   ]
  },
  {
   "cell_type": "code",
   "execution_count": null,
   "metadata": {},
   "outputs": [],
   "source": []
  },
  {
   "cell_type": "code",
   "execution_count": 67,
   "metadata": {},
   "outputs": [
    {
     "name": "stdout",
     "output_type": "stream",
     "text": [
      "4010    1\n",
      "2732    1\n",
      "1530    1\n",
      "3382    1\n",
      "1427    2\n",
      "Name: Class, dtype: int64\n",
      "(2915, 3)\n",
      "(2385, 3)\n"
     ]
    }
   ],
   "source": [
    "from sklearn.cross_validation import train_test_split\n",
    "train,test = train_test_split(data,test_size=0.45)\n",
    "features_train = train[['V1','V2']]\n",
    "features_test = test[['V1','V2']]\n",
    "labels_train = train.Class\n",
    "labels_test = test.Class\n",
    "print(labels_test.head())\n",
    "print(train.shape)\n",
    "print(test.shape)"
   ]
  },
  {
   "cell_type": "code",
   "execution_count": 68,
   "metadata": {},
   "outputs": [
    {
     "data": {
      "text/plain": [
       "'Now using the sklearn library, we import train_test_test from cross validation and split the original dataset into training and test dataset(55,45)'"
      ]
     },
     "execution_count": 68,
     "metadata": {},
     "output_type": "execute_result"
    }
   ],
   "source": [
    "\"Now using the sklearn library, we import train_test_test from cross validation and split the original dataset into training and test dataset(55,45)\""
   ]
  },
  {
   "cell_type": "code",
   "execution_count": 69,
   "metadata": {},
   "outputs": [
    {
     "name": "stdout",
     "output_type": "stream",
     "text": [
      "[1 2 1 ... 1 2 1]\n",
      "Accuracy: 0.6163522012578616\n"
     ]
    }
   ],
   "source": [
    "from sklearn.naive_bayes import GaussianNB\n",
    "clf = GaussianNB()\n",
    "training = clf.fit(features_train,labels_train)\n",
    "predictions = clf.predict(features_test)\n",
    "print(predictions)\n",
    "print(\"Accuracy:\",clf.score(features_test,labels_test))"
   ]
  },
  {
   "cell_type": "code",
   "execution_count": 70,
   "metadata": {},
   "outputs": [
    {
     "name": "stdout",
     "output_type": "stream",
     "text": [
      "[1 2 1 ... 2 2 1]\n",
      "Accuracy: 0.9014675052410901\n"
     ]
    }
   ],
   "source": [
    "from sklearn import svm\n",
    "clf = svm.SVC(kernel='rbf')\n",
    "training = clf.fit(features_train,labels_train)\n",
    "predictions = clf.predict(features_test)\n",
    "print(predictions)\n",
    "print(\"Accuracy:\",clf.score(features_test,labels_test))"
   ]
  },
  {
   "cell_type": "code",
   "execution_count": 71,
   "metadata": {},
   "outputs": [
    {
     "name": "stdout",
     "output_type": "stream",
     "text": [
      "[1 1 1 ... 1 1 1]\n",
      "Accuracy: 0.5526205450733752\n"
     ]
    }
   ],
   "source": [
    "from sklearn import svm\n",
    "clf = svm.SVC(kernel='linear')\n",
    "training = clf.fit(features_train,labels_train)\n",
    "predictions = clf.predict(features_test)\n",
    "print(predictions)\n",
    "print(\"Accuracy:\",clf.score(features_test,labels_test))"
   ]
  },
  {
   "cell_type": "code",
   "execution_count": 72,
   "metadata": {},
   "outputs": [
    {
     "name": "stdout",
     "output_type": "stream",
     "text": [
      "Accuracy: 0.8888888888888888\n"
     ]
    }
   ],
   "source": [
    "from sklearn.ensemble import RandomForestClassifier\n",
    "clf = RandomForestClassifier(n_estimators=100, random_state=7)\n",
    "boosted = clf.fit(features_train,labels_train)\n",
    "prediction = clf.score(features_test,labels_test)\n",
    "print(\"Accuracy:\",prediction)"
   ]
  },
  {
   "cell_type": "code",
   "execution_count": 73,
   "metadata": {},
   "outputs": [
    {
     "name": "stdout",
     "output_type": "stream",
     "text": [
      "[1 2 1 ... 2 1 1]\n",
      "Accuracy: 0.9010482180293501\n"
     ]
    }
   ],
   "source": [
    "from sklearn import svm\n",
    "clf = svm.SVC(kernel='rbf',C=10,gamma='auto')\n",
    "training = clf.fit(features_train,labels_train)\n",
    "predictions = clf.predict(features_test)\n",
    "print(predictions)\n",
    "print(\"Accuracy:\",clf.score(features_test,labels_test))"
   ]
  },
  {
   "cell_type": "code",
   "execution_count": null,
   "metadata": {},
   "outputs": [],
   "source": [
    "\"Perbandingan antar metode klasifikasi diketahui yang paling akurat adalah SVM dengan kernel RBF\""
   ]
  },
  {
   "cell_type": "code",
   "execution_count": 78,
   "metadata": {},
   "outputs": [],
   "source": [
    "import numpy as np\n",
    "import matplotlib.pyplot as plt\n",
    "from sklearn import svm, datasets\n",
    "import seaborn as sns\n",
    "sns.set()"
   ]
  },
  {
   "cell_type": "code",
   "execution_count": null,
   "metadata": {},
   "outputs": [],
   "source": []
  }
 ],
 "metadata": {
  "kernelspec": {
   "display_name": "Python 3",
   "language": "python",
   "name": "python3"
  },
  "language_info": {
   "codemirror_mode": {
    "name": "ipython",
    "version": 3
   },
   "file_extension": ".py",
   "mimetype": "text/x-python",
   "name": "python",
   "nbconvert_exporter": "python",
   "pygments_lexer": "ipython3",
   "version": "3.7.0"
  }
 },
 "nbformat": 4,
 "nbformat_minor": 2
}
